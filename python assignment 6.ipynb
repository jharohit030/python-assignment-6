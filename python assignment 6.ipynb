{
 "cells": [
  {
   "cell_type": "code",
   "execution_count": 3,
   "id": "e57e8ae2-4782-42cc-9ed7-4d40cd3041c7",
   "metadata": {},
   "outputs": [
    {
     "name": "stdin",
     "output_type": "stream",
     "text": [
      "Enter the percentage:  76\n"
     ]
    },
    {
     "name": "stdout",
     "output_type": "stream",
     "text": [
      "C\n"
     ]
    }
   ],
   "source": [
    "#Question 1:\n",
    "\n",
    "inp = float(input(\"Enter the percentage: \"))\n",
    "\n",
    "if inp > 90:\n",
    "    print('A')\n",
    "elif inp > 80 and inp <=90:\n",
    "    print('B')\n",
    "elif inp >=60 and inp <=80:\n",
    "    print('C')\n",
    "else:\n",
    "    print('D')"
   ]
  },
  {
   "cell_type": "code",
   "execution_count": 7,
   "id": "74c89f9f-1729-4c76-bda7-16af966c6f7f",
   "metadata": {},
   "outputs": [
    {
     "name": "stdin",
     "output_type": "stream",
     "text": [
      "Enter the cost price of bike:  70000\n"
     ]
    },
    {
     "name": "stdout",
     "output_type": "stream",
     "text": [
      "10%\n"
     ]
    }
   ],
   "source": [
    "#Question 2:\n",
    "\n",
    "cost = int(input(\"Enter the cost price of bike: \"))\n",
    "\n",
    "if cost > 100000:\n",
    "    tax = '15%'\n",
    "elif cost > 50000 and cost <= 100000:\n",
    "    tax = '10%'\n",
    "else:\n",
    "    tax = '5%'\n",
    "print(tax)\n",
    "           \n",
    "           "
   ]
  },
  {
   "cell_type": "code",
   "execution_count": 8,
   "id": "8097fb42-7ead-4993-a1dd-79c839576848",
   "metadata": {},
   "outputs": [
    {
     "name": "stdin",
     "output_type": "stream",
     "text": [
      "Enter the city name:  Agra\n"
     ]
    },
    {
     "name": "stdout",
     "output_type": "stream",
     "text": [
      "Taj Mahal\n"
     ]
    }
   ],
   "source": [
    "#Question 3:\n",
    "\n",
    "user_input = input(\"Enter the city name: \")\n",
    "\n",
    "if user_input == 'Delhi':\n",
    "    monument = 'Red Fort'\n",
    "elif user_input == 'Agra':\n",
    "    monument = 'Taj Mahal'\n",
    "elif user_input == 'Jaipur':\n",
    "    monument = 'Jal Mahal'\n",
    "print(monument)\n"
   ]
  },
  {
   "cell_type": "code",
   "execution_count": 1,
   "id": "12bce2a3-8079-4241-8307-46baa881969c",
   "metadata": {},
   "outputs": [
    {
     "name": "stdout",
     "output_type": "stream",
     "text": [
      "3\n"
     ]
    }
   ],
   "source": [
    "#Question 4:\n",
    "n = 1\n",
    "count = 0\n",
    "while n <= 10:\n",
    "    if n %3 == 0:\n",
    "        count = count + 1\n",
    "    n = n+1\n",
    "print(count)"
   ]
  },
  {
   "cell_type": "code",
   "execution_count": 2,
   "id": "266132b4-ccde-4518-86c4-edeb08f35862",
   "metadata": {},
   "outputs": [
    {
     "name": "stdout",
     "output_type": "stream",
     "text": [
      "1\n",
      "2\n",
      "3\n",
      "4\n",
      "5\n"
     ]
    }
   ],
   "source": [
    "#Question 5:\n",
    "\n",
    "Python while loop is used to run a block code until a certain condition is met.\n",
    "It is used for iterating over the object until the condition is met as written in code.\n",
    "The syntax of while loop is:\n",
    "\n",
    "while condition:\n",
    "    # body of while loop\n",
    "    \n",
    "1.A while loop evaluates the condition\n",
    "2.If the condition evaluates to True, the code inside the while loop is executed.\n",
    "3.condition is evaluated again.\n",
    "4.This process continues until the condition is False.\n",
    "5.When condition evaluates to False, the loop stops.\n",
    "\n",
    "# program to display numbers from 1 to 5\n",
    "\n",
    "# initialize the variable\n",
    "i = 1\n",
    "n = 5\n",
    "\n",
    "# while loop from i = 1 to 5\n",
    "while i <= n:\n",
    "    print(i)\n",
    "    i = i + 1\n",
    "\n"
   ]
  },
  {
   "cell_type": "code",
   "execution_count": 3,
   "id": "ce593af4-c53e-4731-a9cc-c7c72cee99b6",
   "metadata": {},
   "outputs": [
    {
     "name": "stdout",
     "output_type": "stream",
     "text": [
      "1 \n",
      "3 3 \n",
      "5 5 5 \n",
      "7 7 7 7 \n",
      "9 9 9 9 9 \n"
     ]
    }
   ],
   "source": [
    "#Question 6:\n",
    "\n",
    "rows = 5\n",
    "i = 1\n",
    "while i <= rows:\n",
    "    j = 1\n",
    "    while j <= i:\n",
    "        print((i * 2 - 1), end=\" \")\n",
    "        j = j + 1\n",
    "    i = i + 1\n",
    "    print('')\n"
   ]
  },
  {
   "cell_type": "code",
   "execution_count": 6,
   "id": "b2a81198-cdcc-4b65-b213-7621519dbd1c",
   "metadata": {},
   "outputs": [
    {
     "name": "stdout",
     "output_type": "stream",
     "text": [
      "10\n",
      "9\n",
      "8\n",
      "7\n",
      "6\n",
      "5\n",
      "4\n",
      "3\n",
      "2\n",
      "1\n"
     ]
    }
   ],
   "source": [
    "# Question 7:\n",
    "\n",
    "num = 10\n",
    "while num >0:\n",
    "    print(num)\n",
    "    num = num -1"
   ]
  },
  {
   "cell_type": "code",
   "execution_count": 7,
   "id": "49c0c412-10bf-4386-a336-f5d886a228eb",
   "metadata": {},
   "outputs": [
    {
     "name": "stdout",
     "output_type": "stream",
     "text": [
      "10\n",
      "9\n",
      "8\n",
      "7\n",
      "6\n",
      "5\n",
      "4\n",
      "3\n",
      "2\n",
      "1\n"
     ]
    }
   ],
   "source": [
    "#Question 8:\n",
    "\n",
    "num = 10\n",
    "while num >0:\n",
    "    print(num)\n",
    "    num = num -1"
   ]
  },
  {
   "cell_type": "code",
   "execution_count": null,
   "id": "b6d63ec0-a8e3-474a-8108-dafa990c7ed3",
   "metadata": {},
   "outputs": [],
   "source": []
  }
 ],
 "metadata": {
  "kernelspec": {
   "display_name": "Python 3 (ipykernel)",
   "language": "python",
   "name": "python3"
  },
  "language_info": {
   "codemirror_mode": {
    "name": "ipython",
    "version": 3
   },
   "file_extension": ".py",
   "mimetype": "text/x-python",
   "name": "python",
   "nbconvert_exporter": "python",
   "pygments_lexer": "ipython3",
   "version": "3.10.8"
  }
 },
 "nbformat": 4,
 "nbformat_minor": 5
}
